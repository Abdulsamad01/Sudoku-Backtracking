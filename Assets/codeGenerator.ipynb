{
 "cells": [
  {
   "cell_type": "code",
   "execution_count": 1,
   "metadata": {},
   "outputs": [
    {
     "name": "stdout",
     "output_type": "stream",
     "text": [
      "   button11 = new GameButton() ; button11.setBounds(50, 50, 50, 50); button11.setBackground(Color.WHITE); button11.addActionListener( this ); button11.buttonID = \"11\" ;\n",
      "   button12 = new GameButton() ; button12.setBounds(50, 100, 50, 50); button12.setBackground(Color.WHITE); button12.addActionListener( this ); button12.buttonID = \"12\" ;\n",
      "   button13 = new GameButton() ; button13.setBounds(50, 150, 50, 50); button13.setBackground(Color.WHITE); button13.addActionListener( this ); button13.buttonID = \"13\" ;\n",
      "   button14 = new GameButton() ; button14.setBounds(50, 200, 50, 50); button14.setBackground(Color.WHITE); button14.addActionListener( this ); button14.buttonID = \"14\" ;\n",
      "   button15 = new GameButton() ; button15.setBounds(50, 250, 50, 50); button15.setBackground(Color.WHITE); button15.addActionListener( this ); button15.buttonID = \"15\" ;\n",
      "   button16 = new GameButton() ; button16.setBounds(50, 300, 50, 50); button16.setBackground(Color.WHITE); button16.addActionListener( this ); button16.buttonID = \"16\" ;\n",
      "   button17 = new GameButton() ; button17.setBounds(50, 350, 50, 50); button17.setBackground(Color.WHITE); button17.addActionListener( this ); button17.buttonID = \"17\" ;\n",
      "   button18 = new GameButton() ; button18.setBounds(50, 400, 50, 50); button18.setBackground(Color.WHITE); button18.addActionListener( this ); button18.buttonID = \"18\" ;\n",
      "   button19 = new GameButton() ; button19.setBounds(50, 450, 50, 50); button19.setBackground(Color.WHITE); button19.addActionListener( this ); button19.buttonID = \"19\" ;\n",
      "\n",
      "   button21 = new GameButton() ; button21.setBounds(100, 50, 50, 50); button21.setBackground(Color.WHITE); button21.addActionListener( this ); button21.buttonID = \"21\" ;\n",
      "   button22 = new GameButton() ; button22.setBounds(100, 100, 50, 50); button22.setBackground(Color.WHITE); button22.addActionListener( this ); button22.buttonID = \"22\" ;\n",
      "   button23 = new GameButton() ; button23.setBounds(100, 150, 50, 50); button23.setBackground(Color.WHITE); button23.addActionListener( this ); button23.buttonID = \"23\" ;\n",
      "   button24 = new GameButton() ; button24.setBounds(100, 200, 50, 50); button24.setBackground(Color.WHITE); button24.addActionListener( this ); button24.buttonID = \"24\" ;\n",
      "   button25 = new GameButton() ; button25.setBounds(100, 250, 50, 50); button25.setBackground(Color.WHITE); button25.addActionListener( this ); button25.buttonID = \"25\" ;\n",
      "   button26 = new GameButton() ; button26.setBounds(100, 300, 50, 50); button26.setBackground(Color.WHITE); button26.addActionListener( this ); button26.buttonID = \"26\" ;\n",
      "   button27 = new GameButton() ; button27.setBounds(100, 350, 50, 50); button27.setBackground(Color.WHITE); button27.addActionListener( this ); button27.buttonID = \"27\" ;\n",
      "   button28 = new GameButton() ; button28.setBounds(100, 400, 50, 50); button28.setBackground(Color.WHITE); button28.addActionListener( this ); button28.buttonID = \"28\" ;\n",
      "   button29 = new GameButton() ; button29.setBounds(100, 450, 50, 50); button29.setBackground(Color.WHITE); button29.addActionListener( this ); button29.buttonID = \"29\" ;\n",
      "\n",
      "   button31 = new GameButton() ; button31.setBounds(150, 50, 50, 50); button31.setBackground(Color.WHITE); button31.addActionListener( this ); button31.buttonID = \"31\" ;\n",
      "   button32 = new GameButton() ; button32.setBounds(150, 100, 50, 50); button32.setBackground(Color.WHITE); button32.addActionListener( this ); button32.buttonID = \"32\" ;\n",
      "   button33 = new GameButton() ; button33.setBounds(150, 150, 50, 50); button33.setBackground(Color.WHITE); button33.addActionListener( this ); button33.buttonID = \"33\" ;\n",
      "   button34 = new GameButton() ; button34.setBounds(150, 200, 50, 50); button34.setBackground(Color.WHITE); button34.addActionListener( this ); button34.buttonID = \"34\" ;\n",
      "   button35 = new GameButton() ; button35.setBounds(150, 250, 50, 50); button35.setBackground(Color.WHITE); button35.addActionListener( this ); button35.buttonID = \"35\" ;\n",
      "   button36 = new GameButton() ; button36.setBounds(150, 300, 50, 50); button36.setBackground(Color.WHITE); button36.addActionListener( this ); button36.buttonID = \"36\" ;\n",
      "   button37 = new GameButton() ; button37.setBounds(150, 350, 50, 50); button37.setBackground(Color.WHITE); button37.addActionListener( this ); button37.buttonID = \"37\" ;\n",
      "   button38 = new GameButton() ; button38.setBounds(150, 400, 50, 50); button38.setBackground(Color.WHITE); button38.addActionListener( this ); button38.buttonID = \"38\" ;\n",
      "   button39 = new GameButton() ; button39.setBounds(150, 450, 50, 50); button39.setBackground(Color.WHITE); button39.addActionListener( this ); button39.buttonID = \"39\" ;\n",
      "\n",
      "   button41 = new GameButton() ; button41.setBounds(200, 50, 50, 50); button41.setBackground(Color.WHITE); button41.addActionListener( this ); button41.buttonID = \"41\" ;\n",
      "   button42 = new GameButton() ; button42.setBounds(200, 100, 50, 50); button42.setBackground(Color.WHITE); button42.addActionListener( this ); button42.buttonID = \"42\" ;\n",
      "   button43 = new GameButton() ; button43.setBounds(200, 150, 50, 50); button43.setBackground(Color.WHITE); button43.addActionListener( this ); button43.buttonID = \"43\" ;\n",
      "   button44 = new GameButton() ; button44.setBounds(200, 200, 50, 50); button44.setBackground(Color.WHITE); button44.addActionListener( this ); button44.buttonID = \"44\" ;\n",
      "   button45 = new GameButton() ; button45.setBounds(200, 250, 50, 50); button45.setBackground(Color.WHITE); button45.addActionListener( this ); button45.buttonID = \"45\" ;\n",
      "   button46 = new GameButton() ; button46.setBounds(200, 300, 50, 50); button46.setBackground(Color.WHITE); button46.addActionListener( this ); button46.buttonID = \"46\" ;\n",
      "   button47 = new GameButton() ; button47.setBounds(200, 350, 50, 50); button47.setBackground(Color.WHITE); button47.addActionListener( this ); button47.buttonID = \"47\" ;\n",
      "   button48 = new GameButton() ; button48.setBounds(200, 400, 50, 50); button48.setBackground(Color.WHITE); button48.addActionListener( this ); button48.buttonID = \"48\" ;\n",
      "   button49 = new GameButton() ; button49.setBounds(200, 450, 50, 50); button49.setBackground(Color.WHITE); button49.addActionListener( this ); button49.buttonID = \"49\" ;\n",
      "\n",
      "   button51 = new GameButton() ; button51.setBounds(250, 50, 50, 50); button51.setBackground(Color.WHITE); button51.addActionListener( this ); button51.buttonID = \"51\" ;\n",
      "   button52 = new GameButton() ; button52.setBounds(250, 100, 50, 50); button52.setBackground(Color.WHITE); button52.addActionListener( this ); button52.buttonID = \"52\" ;\n",
      "   button53 = new GameButton() ; button53.setBounds(250, 150, 50, 50); button53.setBackground(Color.WHITE); button53.addActionListener( this ); button53.buttonID = \"53\" ;\n",
      "   button54 = new GameButton() ; button54.setBounds(250, 200, 50, 50); button54.setBackground(Color.WHITE); button54.addActionListener( this ); button54.buttonID = \"54\" ;\n",
      "   button55 = new GameButton() ; button55.setBounds(250, 250, 50, 50); button55.setBackground(Color.WHITE); button55.addActionListener( this ); button55.buttonID = \"55\" ;\n",
      "   button56 = new GameButton() ; button56.setBounds(250, 300, 50, 50); button56.setBackground(Color.WHITE); button56.addActionListener( this ); button56.buttonID = \"56\" ;\n",
      "   button57 = new GameButton() ; button57.setBounds(250, 350, 50, 50); button57.setBackground(Color.WHITE); button57.addActionListener( this ); button57.buttonID = \"57\" ;\n",
      "   button58 = new GameButton() ; button58.setBounds(250, 400, 50, 50); button58.setBackground(Color.WHITE); button58.addActionListener( this ); button58.buttonID = \"58\" ;\n",
      "   button59 = new GameButton() ; button59.setBounds(250, 450, 50, 50); button59.setBackground(Color.WHITE); button59.addActionListener( this ); button59.buttonID = \"59\" ;\n",
      "\n",
      "   button61 = new GameButton() ; button61.setBounds(300, 50, 50, 50); button61.setBackground(Color.WHITE); button61.addActionListener( this ); button61.buttonID = \"61\" ;\n",
      "   button62 = new GameButton() ; button62.setBounds(300, 100, 50, 50); button62.setBackground(Color.WHITE); button62.addActionListener( this ); button62.buttonID = \"62\" ;\n",
      "   button63 = new GameButton() ; button63.setBounds(300, 150, 50, 50); button63.setBackground(Color.WHITE); button63.addActionListener( this ); button63.buttonID = \"63\" ;\n",
      "   button64 = new GameButton() ; button64.setBounds(300, 200, 50, 50); button64.setBackground(Color.WHITE); button64.addActionListener( this ); button64.buttonID = \"64\" ;\n",
      "   button65 = new GameButton() ; button65.setBounds(300, 250, 50, 50); button65.setBackground(Color.WHITE); button65.addActionListener( this ); button65.buttonID = \"65\" ;\n",
      "   button66 = new GameButton() ; button66.setBounds(300, 300, 50, 50); button66.setBackground(Color.WHITE); button66.addActionListener( this ); button66.buttonID = \"66\" ;\n",
      "   button67 = new GameButton() ; button67.setBounds(300, 350, 50, 50); button67.setBackground(Color.WHITE); button67.addActionListener( this ); button67.buttonID = \"67\" ;\n",
      "   button68 = new GameButton() ; button68.setBounds(300, 400, 50, 50); button68.setBackground(Color.WHITE); button68.addActionListener( this ); button68.buttonID = \"68\" ;\n",
      "   button69 = new GameButton() ; button69.setBounds(300, 450, 50, 50); button69.setBackground(Color.WHITE); button69.addActionListener( this ); button69.buttonID = \"69\" ;\n",
      "\n",
      "   button71 = new GameButton() ; button71.setBounds(350, 50, 50, 50); button71.setBackground(Color.WHITE); button71.addActionListener( this ); button71.buttonID = \"71\" ;\n",
      "   button72 = new GameButton() ; button72.setBounds(350, 100, 50, 50); button72.setBackground(Color.WHITE); button72.addActionListener( this ); button72.buttonID = \"72\" ;\n",
      "   button73 = new GameButton() ; button73.setBounds(350, 150, 50, 50); button73.setBackground(Color.WHITE); button73.addActionListener( this ); button73.buttonID = \"73\" ;\n",
      "   button74 = new GameButton() ; button74.setBounds(350, 200, 50, 50); button74.setBackground(Color.WHITE); button74.addActionListener( this ); button74.buttonID = \"74\" ;\n",
      "   button75 = new GameButton() ; button75.setBounds(350, 250, 50, 50); button75.setBackground(Color.WHITE); button75.addActionListener( this ); button75.buttonID = \"75\" ;\n",
      "   button76 = new GameButton() ; button76.setBounds(350, 300, 50, 50); button76.setBackground(Color.WHITE); button76.addActionListener( this ); button76.buttonID = \"76\" ;\n",
      "   button77 = new GameButton() ; button77.setBounds(350, 350, 50, 50); button77.setBackground(Color.WHITE); button77.addActionListener( this ); button77.buttonID = \"77\" ;\n",
      "   button78 = new GameButton() ; button78.setBounds(350, 400, 50, 50); button78.setBackground(Color.WHITE); button78.addActionListener( this ); button78.buttonID = \"78\" ;\n",
      "   button79 = new GameButton() ; button79.setBounds(350, 450, 50, 50); button79.setBackground(Color.WHITE); button79.addActionListener( this ); button79.buttonID = \"79\" ;\n",
      "\n",
      "   button81 = new GameButton() ; button81.setBounds(400, 50, 50, 50); button81.setBackground(Color.WHITE); button81.addActionListener( this ); button81.buttonID = \"81\" ;\n",
      "   button82 = new GameButton() ; button82.setBounds(400, 100, 50, 50); button82.setBackground(Color.WHITE); button82.addActionListener( this ); button82.buttonID = \"82\" ;\n",
      "   button83 = new GameButton() ; button83.setBounds(400, 150, 50, 50); button83.setBackground(Color.WHITE); button83.addActionListener( this ); button83.buttonID = \"83\" ;\n",
      "   button84 = new GameButton() ; button84.setBounds(400, 200, 50, 50); button84.setBackground(Color.WHITE); button84.addActionListener( this ); button84.buttonID = \"84\" ;\n",
      "   button85 = new GameButton() ; button85.setBounds(400, 250, 50, 50); button85.setBackground(Color.WHITE); button85.addActionListener( this ); button85.buttonID = \"85\" ;\n",
      "   button86 = new GameButton() ; button86.setBounds(400, 300, 50, 50); button86.setBackground(Color.WHITE); button86.addActionListener( this ); button86.buttonID = \"86\" ;\n",
      "   button87 = new GameButton() ; button87.setBounds(400, 350, 50, 50); button87.setBackground(Color.WHITE); button87.addActionListener( this ); button87.buttonID = \"87\" ;\n",
      "   button88 = new GameButton() ; button88.setBounds(400, 400, 50, 50); button88.setBackground(Color.WHITE); button88.addActionListener( this ); button88.buttonID = \"88\" ;\n",
      "   button89 = new GameButton() ; button89.setBounds(400, 450, 50, 50); button89.setBackground(Color.WHITE); button89.addActionListener( this ); button89.buttonID = \"89\" ;\n",
      "\n",
      "   button91 = new GameButton() ; button91.setBounds(450, 50, 50, 50); button91.setBackground(Color.WHITE); button91.addActionListener( this ); button91.buttonID = \"91\" ;\n",
      "   button92 = new GameButton() ; button92.setBounds(450, 100, 50, 50); button92.setBackground(Color.WHITE); button92.addActionListener( this ); button92.buttonID = \"92\" ;\n",
      "   button93 = new GameButton() ; button93.setBounds(450, 150, 50, 50); button93.setBackground(Color.WHITE); button93.addActionListener( this ); button93.buttonID = \"93\" ;\n",
      "   button94 = new GameButton() ; button94.setBounds(450, 200, 50, 50); button94.setBackground(Color.WHITE); button94.addActionListener( this ); button94.buttonID = \"94\" ;\n",
      "   button95 = new GameButton() ; button95.setBounds(450, 250, 50, 50); button95.setBackground(Color.WHITE); button95.addActionListener( this ); button95.buttonID = \"95\" ;\n",
      "   button96 = new GameButton() ; button96.setBounds(450, 300, 50, 50); button96.setBackground(Color.WHITE); button96.addActionListener( this ); button96.buttonID = \"96\" ;\n",
      "   button97 = new GameButton() ; button97.setBounds(450, 350, 50, 50); button97.setBackground(Color.WHITE); button97.addActionListener( this ); button97.buttonID = \"97\" ;\n",
      "   button98 = new GameButton() ; button98.setBounds(450, 400, 50, 50); button98.setBackground(Color.WHITE); button98.addActionListener( this ); button98.buttonID = \"98\" ;\n",
      "   button99 = new GameButton() ; button99.setBounds(450, 450, 50, 50); button99.setBackground(Color.WHITE); button99.addActionListener( this ); button99.buttonID = \"99\" ;\n",
      "\n"
     ]
    }
   ],
   "source": [
    "for x in range( 1, 10 ) :\n",
    "    for y in range( 1, 10 ) :\n",
    "\n",
    "        code = f\"   button{x}{y} = new GameButton() ; button{x}{y}.setBounds({x * 50}, {y * 50}, 50, 50); button{x}{y}.setBackground(Color.WHITE); button{x}{y}.addActionListener( this ); button{x}{y}.buttonID = \\\"{x}{y}\\\" ;\"\n",
    "        # code = f\"this.add( button{x}{y} ) ;\"\n",
    "        print( code )\n",
    "    print()"
   ]
  },
  {
   "cell_type": "code",
   "execution_count": 2,
   "metadata": {},
   "outputs": [
    {
     "name": "stdout",
     "output_type": "stream",
     "text": [
      "GameButton buttons[] = new GameButton(){\n",
      "button11 ,button12 ,button13 ,button14 ,button15 ,button16 ,button17 ,button18 ,button19 ,\n",
      "button21 ,button22 ,button23 ,button24 ,button25 ,button26 ,button27 ,button28 ,button29 ,\n",
      "button31 ,button32 ,button33 ,button34 ,button35 ,button36 ,button37 ,button38 ,button39 ,\n",
      "button41 ,button42 ,button43 ,button44 ,button45 ,button46 ,button47 ,button48 ,button49 ,\n",
      "button51 ,button52 ,button53 ,button54 ,button55 ,button56 ,button57 ,button58 ,button59 ,\n",
      "button61 ,button62 ,button63 ,button64 ,button65 ,button66 ,button67 ,button68 ,button69 ,\n",
      "button71 ,button72 ,button73 ,button74 ,button75 ,button76 ,button77 ,button78 ,button79 ,\n",
      "button81 ,button82 ,button83 ,button84 ,button85 ,button86 ,button87 ,button88 ,button89 ,\n",
      "button91 ,button92 ,button93 ,button94 ,button95 ,button96 ,button97 ,button98 ,button99 ,\n",
      "} ;\n"
     ]
    }
   ],
   "source": [
    "code = \"GameButton buttons[] = new GameButton(){\\n\"\n",
    "\n",
    "for x in range( 1, 10 ) :\n",
    "    for y in range( 1, 10 ) :\n",
    "\n",
    "        code += f\"button{x}{y} ,\"\n",
    "    \n",
    "    code += \"\\n\"\n",
    "\n",
    "code += \"} ;\"\n",
    "\n",
    "print (code)"
   ]
  }
 ],
 "metadata": {
  "kernelspec": {
   "display_name": "Python 3.10.4 64-bit",
   "language": "python",
   "name": "python3"
  },
  "language_info": {
   "codemirror_mode": {
    "name": "ipython",
    "version": 3
   },
   "file_extension": ".py",
   "mimetype": "text/x-python",
   "name": "python",
   "nbconvert_exporter": "python",
   "pygments_lexer": "ipython3",
   "version": "3.10.4"
  },
  "orig_nbformat": 4,
  "vscode": {
   "interpreter": {
    "hash": "d1ef2e27f095bcb051051857f0ffc56cf5a9ec7a9ad8f117b8c8e9beab863316"
   }
  }
 },
 "nbformat": 4,
 "nbformat_minor": 2
}
