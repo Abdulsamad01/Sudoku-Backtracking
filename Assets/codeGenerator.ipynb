{
 "cells": [
  {
   "cell_type": "code",
   "execution_count": null,
   "metadata": {},
   "outputs": [],
   "source": [
    "for x in range( 1, 10 ) :\n",
    "    for y in range( 1, 10 ) :\n",
    "\n",
    "        code = f\"   button{x}{y} = new GameButton() ; button{x}{y}.setBounds({x * 50}, {y * 50}, 50, 50); button{x}{y}.setBackground(Color.WHITE); button{x}{y}.addActionListener( this ); button{x}{y}.buttonID = \\\"{x}{y}\\\" ;\"\n",
    "        # code = f\"this.add( button{x}{y} ) ;\"\n",
    "        print( code )\n",
    "    print()"
   ]
  },
  {
   "cell_type": "code",
   "execution_count": 2,
   "metadata": {},
   "outputs": [
    {
     "name": "stdout",
     "output_type": "stream",
     "text": [
      "GameButton buttons[] = new GameButton(){\n",
      "button11 ,button12 ,button13 ,button14 ,button15 ,button16 ,button17 ,button18 ,button19 ,\n",
      "button21 ,button22 ,button23 ,button24 ,button25 ,button26 ,button27 ,button28 ,button29 ,\n",
      "button31 ,button32 ,button33 ,button34 ,button35 ,button36 ,button37 ,button38 ,button39 ,\n",
      "button41 ,button42 ,button43 ,button44 ,button45 ,button46 ,button47 ,button48 ,button49 ,\n",
      "button51 ,button52 ,button53 ,button54 ,button55 ,button56 ,button57 ,button58 ,button59 ,\n",
      "button61 ,button62 ,button63 ,button64 ,button65 ,button66 ,button67 ,button68 ,button69 ,\n",
      "button71 ,button72 ,button73 ,button74 ,button75 ,button76 ,button77 ,button78 ,button79 ,\n",
      "button81 ,button82 ,button83 ,button84 ,button85 ,button86 ,button87 ,button88 ,button89 ,\n",
      "button91 ,button92 ,button93 ,button94 ,button95 ,button96 ,button97 ,button98 ,button99 ,\n",
      "} ;\n"
     ]
    }
   ],
   "source": [
    "code = \"GameButton buttons[] = new GameButton(){\\n\"\n",
    "\n",
    "for x in range( 1, 10 ) :\n",
    "    for y in range( 1, 10 ) :\n",
    "\n",
    "        code += f\"button{x}{y} ,\"\n",
    "    \n",
    "    code += \"\\n\"\n",
    "\n",
    "code += \"} ;\"\n",
    "\n",
    "print (code)"
   ]
  }
 ],
 "metadata": {
  "kernelspec": {
   "display_name": "Python 3.10.4 64-bit",
   "language": "python",
   "name": "python3"
  },
  "language_info": {
   "codemirror_mode": {
    "name": "ipython",
    "version": 3
   },
   "file_extension": ".py",
   "mimetype": "text/x-python",
   "name": "python",
   "nbconvert_exporter": "python",
   "pygments_lexer": "ipython3",
   "version": "3.10.4"
  },
  "orig_nbformat": 4,
  "vscode": {
   "interpreter": {
    "hash": "d1ef2e27f095bcb051051857f0ffc56cf5a9ec7a9ad8f117b8c8e9beab863316"
   }
  }
 },
 "nbformat": 4,
 "nbformat_minor": 2
}
